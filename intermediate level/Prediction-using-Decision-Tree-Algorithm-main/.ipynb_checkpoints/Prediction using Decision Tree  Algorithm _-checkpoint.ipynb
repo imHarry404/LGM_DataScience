{
 "cells": [
  {
   "cell_type": "markdown",
   "metadata": {
    "id": "J-Q7ndOc6yYw"
   },
   "source": [
    "## Prediction using Decision Tree  Algorithm"
   ]
  },
  {
   "cell_type": "markdown",
   "metadata": {
    "id": "Y21kTnri6f7w"
   },
   "source": [
    "### Author = Hariom Kumar"
   ]
  },
  {
   "cell_type": "markdown",
   "metadata": {
    "id": "80xwtiqj7drX"
   },
   "source": [
    "## Import libraries"
   ]
  },
  {
   "cell_type": "code",
   "execution_count": 1,
   "metadata": {
    "executionInfo": {
     "elapsed": 1609,
     "status": "ok",
     "timestamp": 1632135006798,
     "user": {
      "displayName": "Amol Chaudhari",
      "photoUrl": "https://lh3.googleusercontent.com/a-/AOh14GjDCF2gcKUVipPQqvcgYGTG86BwmILmYxkyrP_Wsw=s64",
      "userId": "13156265524411211534"
     },
     "user_tz": -330
    },
    "id": "vMtTI4-mzYqO"
   },
   "outputs": [],
   "source": [
    "import pandas as pd\n",
    "import numpy as np\n",
    "import seaborn as sns\n",
    "import matplotlib.pyplot as plt"
   ]
  },
  {
   "cell_type": "markdown",
   "metadata": {
    "id": "hsejkWU271Bv"
   },
   "source": [
    "## Import Dataset"
   ]
  },
  {
   "cell_type": "code",
   "execution_count": 2,
   "metadata": {
    "colab": {
     "base_uri": "https://localhost:8080/",
     "height": 419
    },
    "executionInfo": {
     "elapsed": 596,
     "status": "ok",
     "timestamp": 1632135166182,
     "user": {
      "displayName": "Amol Chaudhari",
      "photoUrl": "https://lh3.googleusercontent.com/a-/AOh14GjDCF2gcKUVipPQqvcgYGTG86BwmILmYxkyrP_Wsw=s64",
      "userId": "13156265524411211534"
     },
     "user_tz": -330
    },
    "id": "PboDomFi08C6",
    "outputId": "30497d60-83e7-4b8f-f9ad-3e42844cd29a"
   },
   "outputs": [
    {
     "data": {
      "text/html": [
       "<div>\n",
       "<style scoped>\n",
       "    .dataframe tbody tr th:only-of-type {\n",
       "        vertical-align: middle;\n",
       "    }\n",
       "\n",
       "    .dataframe tbody tr th {\n",
       "        vertical-align: top;\n",
       "    }\n",
       "\n",
       "    .dataframe thead th {\n",
       "        text-align: right;\n",
       "    }\n",
       "</style>\n",
       "<table border=\"1\" class=\"dataframe\">\n",
       "  <thead>\n",
       "    <tr style=\"text-align: right;\">\n",
       "      <th></th>\n",
       "      <th>Id</th>\n",
       "      <th>SepalLengthCm</th>\n",
       "      <th>SepalWidthCm</th>\n",
       "      <th>PetalLengthCm</th>\n",
       "      <th>PetalWidthCm</th>\n",
       "      <th>Species</th>\n",
       "    </tr>\n",
       "  </thead>\n",
       "  <tbody>\n",
       "    <tr>\n",
       "      <th>0</th>\n",
       "      <td>1</td>\n",
       "      <td>5.1</td>\n",
       "      <td>3.5</td>\n",
       "      <td>1.4</td>\n",
       "      <td>0.2</td>\n",
       "      <td>Iris-setosa</td>\n",
       "    </tr>\n",
       "    <tr>\n",
       "      <th>1</th>\n",
       "      <td>2</td>\n",
       "      <td>4.9</td>\n",
       "      <td>3.0</td>\n",
       "      <td>1.4</td>\n",
       "      <td>0.2</td>\n",
       "      <td>Iris-setosa</td>\n",
       "    </tr>\n",
       "    <tr>\n",
       "      <th>2</th>\n",
       "      <td>3</td>\n",
       "      <td>4.7</td>\n",
       "      <td>3.2</td>\n",
       "      <td>1.3</td>\n",
       "      <td>0.2</td>\n",
       "      <td>Iris-setosa</td>\n",
       "    </tr>\n",
       "    <tr>\n",
       "      <th>3</th>\n",
       "      <td>4</td>\n",
       "      <td>4.6</td>\n",
       "      <td>3.1</td>\n",
       "      <td>1.5</td>\n",
       "      <td>0.2</td>\n",
       "      <td>Iris-setosa</td>\n",
       "    </tr>\n",
       "    <tr>\n",
       "      <th>4</th>\n",
       "      <td>5</td>\n",
       "      <td>5.0</td>\n",
       "      <td>3.6</td>\n",
       "      <td>1.4</td>\n",
       "      <td>0.2</td>\n",
       "      <td>Iris-setosa</td>\n",
       "    </tr>\n",
       "    <tr>\n",
       "      <th>...</th>\n",
       "      <td>...</td>\n",
       "      <td>...</td>\n",
       "      <td>...</td>\n",
       "      <td>...</td>\n",
       "      <td>...</td>\n",
       "      <td>...</td>\n",
       "    </tr>\n",
       "    <tr>\n",
       "      <th>145</th>\n",
       "      <td>146</td>\n",
       "      <td>6.7</td>\n",
       "      <td>3.0</td>\n",
       "      <td>5.2</td>\n",
       "      <td>2.3</td>\n",
       "      <td>Iris-virginica</td>\n",
       "    </tr>\n",
       "    <tr>\n",
       "      <th>146</th>\n",
       "      <td>147</td>\n",
       "      <td>6.3</td>\n",
       "      <td>2.5</td>\n",
       "      <td>5.0</td>\n",
       "      <td>1.9</td>\n",
       "      <td>Iris-virginica</td>\n",
       "    </tr>\n",
       "    <tr>\n",
       "      <th>147</th>\n",
       "      <td>148</td>\n",
       "      <td>6.5</td>\n",
       "      <td>3.0</td>\n",
       "      <td>5.2</td>\n",
       "      <td>2.0</td>\n",
       "      <td>Iris-virginica</td>\n",
       "    </tr>\n",
       "    <tr>\n",
       "      <th>148</th>\n",
       "      <td>149</td>\n",
       "      <td>6.2</td>\n",
       "      <td>3.4</td>\n",
       "      <td>5.4</td>\n",
       "      <td>2.3</td>\n",
       "      <td>Iris-virginica</td>\n",
       "    </tr>\n",
       "    <tr>\n",
       "      <th>149</th>\n",
       "      <td>150</td>\n",
       "      <td>5.9</td>\n",
       "      <td>3.0</td>\n",
       "      <td>5.1</td>\n",
       "      <td>1.8</td>\n",
       "      <td>Iris-virginica</td>\n",
       "    </tr>\n",
       "  </tbody>\n",
       "</table>\n",
       "<p>150 rows × 6 columns</p>\n",
       "</div>"
      ],
      "text/plain": [
       "      Id  SepalLengthCm  SepalWidthCm  PetalLengthCm  PetalWidthCm  \\\n",
       "0      1            5.1           3.5            1.4           0.2   \n",
       "1      2            4.9           3.0            1.4           0.2   \n",
       "2      3            4.7           3.2            1.3           0.2   \n",
       "3      4            4.6           3.1            1.5           0.2   \n",
       "4      5            5.0           3.6            1.4           0.2   \n",
       "..   ...            ...           ...            ...           ...   \n",
       "145  146            6.7           3.0            5.2           2.3   \n",
       "146  147            6.3           2.5            5.0           1.9   \n",
       "147  148            6.5           3.0            5.2           2.0   \n",
       "148  149            6.2           3.4            5.4           2.3   \n",
       "149  150            5.9           3.0            5.1           1.8   \n",
       "\n",
       "            Species  \n",
       "0       Iris-setosa  \n",
       "1       Iris-setosa  \n",
       "2       Iris-setosa  \n",
       "3       Iris-setosa  \n",
       "4       Iris-setosa  \n",
       "..              ...  \n",
       "145  Iris-virginica  \n",
       "146  Iris-virginica  \n",
       "147  Iris-virginica  \n",
       "148  Iris-virginica  \n",
       "149  Iris-virginica  \n",
       "\n",
       "[150 rows x 6 columns]"
      ]
     },
     "execution_count": 2,
     "metadata": {},
     "output_type": "execute_result"
    }
   ],
   "source": [
    "iris=pd.read_csv('Iris.csv')\n",
    "iris"
   ]
  },
  {
   "cell_type": "markdown",
   "metadata": {
    "id": "pg2LYyyz8Kfg"
   },
   "source": [
    "# Information about Dataset"
   ]
  },
  {
   "cell_type": "code",
   "execution_count": 3,
   "metadata": {
    "colab": {
     "base_uri": "https://localhost:8080/"
    },
    "executionInfo": {
     "elapsed": 421,
     "status": "ok",
     "timestamp": 1632135197942,
     "user": {
      "displayName": "Amol Chaudhari",
      "photoUrl": "https://lh3.googleusercontent.com/a-/AOh14GjDCF2gcKUVipPQqvcgYGTG86BwmILmYxkyrP_Wsw=s64",
      "userId": "13156265524411211534"
     },
     "user_tz": -330
    },
    "id": "E5kHIH0z1NwS",
    "outputId": "ad35fe90-1ad0-46b4-ea41-438d17d464a7"
   },
   "outputs": [
    {
     "name": "stdout",
     "output_type": "stream",
     "text": [
      "<class 'pandas.core.frame.DataFrame'>\n",
      "RangeIndex: 150 entries, 0 to 149\n",
      "Data columns (total 6 columns):\n",
      " #   Column         Non-Null Count  Dtype  \n",
      "---  ------         --------------  -----  \n",
      " 0   Id             150 non-null    int64  \n",
      " 1   SepalLengthCm  150 non-null    float64\n",
      " 2   SepalWidthCm   150 non-null    float64\n",
      " 3   PetalLengthCm  150 non-null    float64\n",
      " 4   PetalWidthCm   150 non-null    float64\n",
      " 5   Species        150 non-null    object \n",
      "dtypes: float64(4), int64(1), object(1)\n",
      "memory usage: 7.2+ KB\n"
     ]
    }
   ],
   "source": [
    "iris.info()"
   ]
  },
  {
   "cell_type": "markdown",
   "metadata": {
    "id": "DKni0T1A8YKE"
   },
   "source": [
    "## Use Count Function"
   ]
  },
  {
   "cell_type": "code",
   "execution_count": 4,
   "metadata": {
    "colab": {
     "base_uri": "https://localhost:8080/"
    },
    "executionInfo": {
     "elapsed": 488,
     "status": "ok",
     "timestamp": 1632135212587,
     "user": {
      "displayName": "Amol Chaudhari",
      "photoUrl": "https://lh3.googleusercontent.com/a-/AOh14GjDCF2gcKUVipPQqvcgYGTG86BwmILmYxkyrP_Wsw=s64",
      "userId": "13156265524411211534"
     },
     "user_tz": -330
    },
    "id": "Uw3PZbJ21q4w",
    "outputId": "b8f3e8a2-3646-4ef3-be68-cf5543ec24e7"
   },
   "outputs": [
    {
     "data": {
      "text/plain": [
       "Iris-setosa        50\n",
       "Iris-versicolor    50\n",
       "Iris-virginica     50\n",
       "Name: Species, dtype: int64"
      ]
     },
     "execution_count": 4,
     "metadata": {},
     "output_type": "execute_result"
    }
   ],
   "source": [
    "iris.Species.value_counts()"
   ]
  },
  {
   "cell_type": "code",
   "execution_count": 5,
   "metadata": {
    "executionInfo": {
     "elapsed": 407,
     "status": "ok",
     "timestamp": 1632135226013,
     "user": {
      "displayName": "Amol Chaudhari",
      "photoUrl": "https://lh3.googleusercontent.com/a-/AOh14GjDCF2gcKUVipPQqvcgYGTG86BwmILmYxkyrP_Wsw=s64",
      "userId": "13156265524411211534"
     },
     "user_tz": -330
    },
    "id": "J8VRQUlN1ukD"
   },
   "outputs": [],
   "source": [
    "iris['Species_class']=np.where(iris.Species=='Iris-virginica',1,np.where(iris.Species=='Iris-versicolor',2,3))"
   ]
  },
  {
   "cell_type": "code",
   "execution_count": 6,
   "metadata": {
    "colab": {
     "base_uri": "https://localhost:8080/"
    },
    "executionInfo": {
     "elapsed": 806,
     "status": "ok",
     "timestamp": 1632135247121,
     "user": {
      "displayName": "Amol Chaudhari",
      "photoUrl": "https://lh3.googleusercontent.com/a-/AOh14GjDCF2gcKUVipPQqvcgYGTG86BwmILmYxkyrP_Wsw=s64",
      "userId": "13156265524411211534"
     },
     "user_tz": -330
    },
    "id": "Eid08KTa1x3W",
    "outputId": "fe70714b-7aa2-4454-b432-acbcaf5fc42c"
   },
   "outputs": [
    {
     "data": {
      "text/plain": [
       "3    50\n",
       "2    50\n",
       "1    50\n",
       "Name: Species_class, dtype: int64"
      ]
     },
     "execution_count": 6,
     "metadata": {},
     "output_type": "execute_result"
    }
   ],
   "source": [
    "iris.Species_class.value_counts()"
   ]
  },
  {
   "cell_type": "markdown",
   "metadata": {
    "id": "K914oxcC8n_n"
   },
   "source": [
    "## Heading of Columns"
   ]
  },
  {
   "cell_type": "code",
   "execution_count": 7,
   "metadata": {
    "colab": {
     "base_uri": "https://localhost:8080/"
    },
    "executionInfo": {
     "elapsed": 438,
     "status": "ok",
     "timestamp": 1632135273965,
     "user": {
      "displayName": "Amol Chaudhari",
      "photoUrl": "https://lh3.googleusercontent.com/a-/AOh14GjDCF2gcKUVipPQqvcgYGTG86BwmILmYxkyrP_Wsw=s64",
      "userId": "13156265524411211534"
     },
     "user_tz": -330
    },
    "id": "vX7SDBRF125T",
    "outputId": "6eb19943-df82-47b3-d04b-d3aa4526bc03"
   },
   "outputs": [
    {
     "data": {
      "text/plain": [
       "Index(['Id', 'SepalLengthCm', 'SepalWidthCm', 'PetalLengthCm', 'PetalWidthCm',\n",
       "       'Species', 'Species_class'],\n",
       "      dtype='object')"
      ]
     },
     "execution_count": 7,
     "metadata": {},
     "output_type": "execute_result"
    }
   ],
   "source": [
    "iris.columns"
   ]
  },
  {
   "cell_type": "code",
   "execution_count": 8,
   "metadata": {
    "executionInfo": {
     "elapsed": 617,
     "status": "ok",
     "timestamp": 1632135304094,
     "user": {
      "displayName": "Amol Chaudhari",
      "photoUrl": "https://lh3.googleusercontent.com/a-/AOh14GjDCF2gcKUVipPQqvcgYGTG86BwmILmYxkyrP_Wsw=s64",
      "userId": "13156265524411211534"
     },
     "user_tz": -330
    },
    "id": "ZR3lSRAA2BXN"
   },
   "outputs": [],
   "source": [
    "cols=['SepalLengthCm', 'SepalWidthCm', 'PetalLengthCm', 'PetalWidthCm']"
   ]
  },
  {
   "cell_type": "markdown",
   "metadata": {
    "id": "5kTURiNb8-Un"
   },
   "source": [
    "## Importing the sklearn"
   ]
  },
  {
   "cell_type": "markdown",
   "metadata": {
    "id": "YmXbRdgd93t4"
   },
   "source": [
    "## Model Preparation"
   ]
  },
  {
   "cell_type": "code",
   "execution_count": 9,
   "metadata": {
    "executionInfo": {
     "elapsed": 459,
     "status": "ok",
     "timestamp": 1632135322965,
     "user": {
      "displayName": "Amol Chaudhari",
      "photoUrl": "https://lh3.googleusercontent.com/a-/AOh14GjDCF2gcKUVipPQqvcgYGTG86BwmILmYxkyrP_Wsw=s64",
      "userId": "13156265524411211534"
     },
     "user_tz": -330
    },
    "id": "4LCLgW712Bmp"
   },
   "outputs": [],
   "source": [
    "from sklearn.model_selection import train_test_split\n",
    "\n",
    "\n",
    "train_X, test_X, train_y, test_y = train_test_split( iris[cols],\n",
    "                                                  iris['Species_class'],\n",
    "                                                  test_size = 0.2,\n",
    "                                                  random_state = 123 )"
   ]
  },
  {
   "cell_type": "markdown",
   "metadata": {
    "id": "FjHqNS0K9-sI"
   },
   "source": [
    "## Model Building"
   ]
  },
  {
   "cell_type": "code",
   "execution_count": 10,
   "metadata": {
    "executionInfo": {
     "elapsed": 638,
     "status": "ok",
     "timestamp": 1632135337692,
     "user": {
      "displayName": "Amol Chaudhari",
      "photoUrl": "https://lh3.googleusercontent.com/a-/AOh14GjDCF2gcKUVipPQqvcgYGTG86BwmILmYxkyrP_Wsw=s64",
      "userId": "13156265524411211534"
     },
     "user_tz": -330
    },
    "id": "TsUs86ES2BqO"
   },
   "outputs": [],
   "source": [
    "param_grid = {'max_depth': np.arange(2, 8),\n",
    "             'max_features': np.arange(2,5)}"
   ]
  },
  {
   "cell_type": "code",
   "execution_count": 25,
   "metadata": {
    "colab": {
     "base_uri": "https://localhost:8080/"
    },
    "executionInfo": {
     "elapsed": 2460,
     "status": "ok",
     "timestamp": 1632135357868,
     "user": {
      "displayName": "Amol Chaudhari",
      "photoUrl": "https://lh3.googleusercontent.com/a-/AOh14GjDCF2gcKUVipPQqvcgYGTG86BwmILmYxkyrP_Wsw=s64",
      "userId": "13156265524411211534"
     },
     "user_tz": -330
    },
    "id": "kJ1--wWo2Bvb",
    "outputId": "f09c7cbe-c6e3-43db-ae3a-c40d8a1871e0"
   },
   "outputs": [
    {
     "name": "stdout",
     "output_type": "stream",
     "text": [
      "Fitting 10 folds for each of 18 candidates, totalling 180 fits\n"
     ]
    },
    {
     "data": {
      "text/plain": [
       "GridSearchCV(cv=10, estimator=DecisionTreeClassifier(), n_jobs=-1,\n",
       "             param_grid={'max_depth': array([2, 3, 4, 5, 6, 7]),\n",
       "                         'max_features': array([2, 3, 4])},\n",
       "             verbose=1)"
      ]
     },
     "execution_count": 25,
     "metadata": {},
     "output_type": "execute_result"
    }
   ],
   "source": [
    "from sklearn.model_selection import GridSearchCV\n",
    "from sklearn.tree import DecisionTreeClassifier, export_graphviz,  export_text\n",
    "tree = GridSearchCV(DecisionTreeClassifier(), param_grid, cv = 10,verbose=1,n_jobs=-1)\n",
    "tree.fit( train_X, train_y )"
   ]
  },
  {
   "cell_type": "code",
   "execution_count": null,
   "metadata": {
    "colab": {
     "base_uri": "https://localhost:8080/"
    },
    "executionInfo": {
     "elapsed": 635,
     "status": "ok",
     "timestamp": 1632135387538,
     "user": {
      "displayName": "Amol Chaudhari",
      "photoUrl": "https://lh3.googleusercontent.com/a-/AOh14GjDCF2gcKUVipPQqvcgYGTG86BwmILmYxkyrP_Wsw=s64",
      "userId": "13156265524411211534"
     },
     "user_tz": -330
    },
    "id": "YdNijiHr2Bzb",
    "outputId": "8e4f2f12-bb2e-4d14-f0c5-ace09eaf83f3"
   },
   "outputs": [],
   "source": [
    "tree.best_score_"
   ]
  },
  {
   "cell_type": "code",
   "execution_count": null,
   "metadata": {
    "colab": {
     "base_uri": "https://localhost:8080/"
    },
    "executionInfo": {
     "elapsed": 492,
     "status": "ok",
     "timestamp": 1632135400297,
     "user": {
      "displayName": "Amol Chaudhari",
      "photoUrl": "https://lh3.googleusercontent.com/a-/AOh14GjDCF2gcKUVipPQqvcgYGTG86BwmILmYxkyrP_Wsw=s64",
      "userId": "13156265524411211534"
     },
     "user_tz": -330
    },
    "id": "122Q5cl-2CAo",
    "outputId": "c861965e-05a0-431c-e226-7d6752f6b334"
   },
   "outputs": [],
   "source": [
    "tree.best_estimator_"
   ]
  },
  {
   "cell_type": "code",
   "execution_count": null,
   "metadata": {
    "colab": {
     "base_uri": "https://localhost:8080/"
    },
    "executionInfo": {
     "elapsed": 685,
     "status": "ok",
     "timestamp": 1632135415827,
     "user": {
      "displayName": "Amol Chaudhari",
      "photoUrl": "https://lh3.googleusercontent.com/a-/AOh14GjDCF2gcKUVipPQqvcgYGTG86BwmILmYxkyrP_Wsw=s64",
      "userId": "13156265524411211534"
     },
     "user_tz": -330
    },
    "id": "yrt8Jo1x2cYg",
    "outputId": "c14ed182-1c08-403c-df7c-28f896cf9fe6"
   },
   "outputs": [],
   "source": [
    "tree.best_params_"
   ]
  },
  {
   "cell_type": "code",
   "execution_count": null,
   "metadata": {
    "executionInfo": {
     "elapsed": 749,
     "status": "ok",
     "timestamp": 1632135429432,
     "user": {
      "displayName": "Amol Chaudhari",
      "photoUrl": "https://lh3.googleusercontent.com/a-/AOh14GjDCF2gcKUVipPQqvcgYGTG86BwmILmYxkyrP_Wsw=s64",
      "userId": "13156265524411211534"
     },
     "user_tz": -330
    },
    "id": "nJxdsiLy2gHm"
   },
   "outputs": [],
   "source": [
    "train_pred = tree.predict(train_X)"
   ]
  },
  {
   "cell_type": "code",
   "execution_count": null,
   "metadata": {
    "executionInfo": {
     "elapsed": 529,
     "status": "ok",
     "timestamp": 1632135443331,
     "user": {
      "displayName": "Amol Chaudhari",
      "photoUrl": "https://lh3.googleusercontent.com/a-/AOh14GjDCF2gcKUVipPQqvcgYGTG86BwmILmYxkyrP_Wsw=s64",
      "userId": "13156265524411211534"
     },
     "user_tz": -330
    },
    "id": "-GkZckHP2jcE"
   },
   "outputs": [],
   "source": [
    "test_pred = tree.predict(test_X)"
   ]
  },
  {
   "cell_type": "code",
   "execution_count": null,
   "metadata": {
    "colab": {
     "base_uri": "https://localhost:8080/"
    },
    "executionInfo": {
     "elapsed": 887,
     "status": "ok",
     "timestamp": 1632135456050,
     "user": {
      "displayName": "Amol Chaudhari",
      "photoUrl": "https://lh3.googleusercontent.com/a-/AOh14GjDCF2gcKUVipPQqvcgYGTG86BwmILmYxkyrP_Wsw=s64",
      "userId": "13156265524411211534"
     },
     "user_tz": -330
    },
    "id": "2X8xbVhl2m4X",
    "outputId": "0dc4d2fe-2f96-47f1-c77b-7ad0d0e360e9"
   },
   "outputs": [],
   "source": [
    "import sklearn.metrics as metrics\n",
    "print(metrics.classification_report(test_y, test_pred))"
   ]
  },
  {
   "cell_type": "markdown",
   "metadata": {
    "id": "C8JWfHEV9n4z"
   },
   "source": [
    "# Building Final Decision Tree"
   ]
  },
  {
   "cell_type": "code",
   "execution_count": null,
   "metadata": {
    "colab": {
     "base_uri": "https://localhost:8080/"
    },
    "executionInfo": {
     "elapsed": 970,
     "status": "ok",
     "timestamp": 1632135472154,
     "user": {
      "displayName": "Amol Chaudhari",
      "photoUrl": "https://lh3.googleusercontent.com/a-/AOh14GjDCF2gcKUVipPQqvcgYGTG86BwmILmYxkyrP_Wsw=s64",
      "userId": "13156265524411211534"
     },
     "user_tz": -330
    },
    "id": "TBxQVyZO2p6A",
    "outputId": "26f26f50-4a4a-4940-d3f5-2a7d82f9985a"
   },
   "outputs": [],
   "source": [
    "clf_tree = DecisionTreeClassifier( max_depth = 4, max_features=2)\n",
    "clf_tree.fit( train_X, train_y )"
   ]
  },
  {
   "cell_type": "code",
   "execution_count": null,
   "metadata": {
    "executionInfo": {
     "elapsed": 669,
     "status": "ok",
     "timestamp": 1632135493560,
     "user": {
      "displayName": "Amol Chaudhari",
      "photoUrl": "https://lh3.googleusercontent.com/a-/AOh14GjDCF2gcKUVipPQqvcgYGTG86BwmILmYxkyrP_Wsw=s64",
      "userId": "13156265524411211534"
     },
     "user_tz": -330
    },
    "id": "7-1wg1Ww2tzw"
   },
   "outputs": [],
   "source": [
    "tree_test_pred = pd.DataFrame( { 'actual':  test_y,\n",
    "                            'predicted': clf_tree.predict( test_X ) } )"
   ]
  },
  {
   "cell_type": "code",
   "execution_count": null,
   "metadata": {
    "colab": {
     "base_uri": "https://localhost:8080/",
     "height": 359
    },
    "executionInfo": {
     "elapsed": 608,
     "status": "ok",
     "timestamp": 1632135509486,
     "user": {
      "displayName": "Amol Chaudhari",
      "photoUrl": "https://lh3.googleusercontent.com/a-/AOh14GjDCF2gcKUVipPQqvcgYGTG86BwmILmYxkyrP_Wsw=s64",
      "userId": "13156265524411211534"
     },
     "user_tz": -330
    },
    "id": "RZdZ-4up2zIj",
    "outputId": "30bc1a05-0518-4bb5-90df-97d0040fe7f7"
   },
   "outputs": [],
   "source": [
    "tree_test_pred.sample( n = 10 )"
   ]
  },
  {
   "cell_type": "code",
   "execution_count": null,
   "metadata": {
    "colab": {
     "base_uri": "https://localhost:8080/"
    },
    "executionInfo": {
     "elapsed": 669,
     "status": "ok",
     "timestamp": 1632135525844,
     "user": {
      "displayName": "Amol Chaudhari",
      "photoUrl": "https://lh3.googleusercontent.com/a-/AOh14GjDCF2gcKUVipPQqvcgYGTG86BwmILmYxkyrP_Wsw=s64",
      "userId": "13156265524411211534"
     },
     "user_tz": -330
    },
    "id": "I8BK90gz23A5",
    "outputId": "c9158daf-e3d7-48cd-d7aa-e6cdd05652cb"
   },
   "outputs": [],
   "source": [
    "metrics.accuracy_score( tree_test_pred.actual, tree_test_pred.predicted )"
   ]
  },
  {
   "cell_type": "markdown",
   "metadata": {
    "id": "8ULb7EdO_6jo"
   },
   "source": [
    "## Accuracy = 96%"
   ]
  },
  {
   "cell_type": "markdown",
   "metadata": {
    "id": "zYcI-SGMAJz2"
   },
   "source": [
    "## Heatmap"
   ]
  },
  {
   "cell_type": "code",
   "execution_count": null,
   "metadata": {
    "colab": {
     "base_uri": "https://localhost:8080/",
     "height": 296
    },
    "executionInfo": {
     "elapsed": 757,
     "status": "ok",
     "timestamp": 1632135542975,
     "user": {
      "displayName": "Amol Chaudhari",
      "photoUrl": "https://lh3.googleusercontent.com/a-/AOh14GjDCF2gcKUVipPQqvcgYGTG86BwmILmYxkyrP_Wsw=s64",
      "userId": "13156265524411211534"
     },
     "user_tz": -330
    },
    "id": "xCGjgNxf26_Q",
    "outputId": "c03052e6-573f-42a6-d435-893f26e017a6"
   },
   "outputs": [],
   "source": [
    "tree_cm = metrics.confusion_matrix( tree_test_pred.predicted,\n",
    "                                 tree_test_pred.actual,\n",
    "                                 [1,0] )\n",
    "sns.heatmap(tree_cm, annot=True,\n",
    "         fmt='.2f',\n",
    "         xticklabels = [\"Yes\", \"No\"] , yticklabels = [\"Yes\", \"No\"] )\n",
    "\n",
    "plt.ylabel('True label')\n",
    "plt.xlabel('Predicted label')"
   ]
  },
  {
   "cell_type": "markdown",
   "metadata": {
    "id": "mxPiB9kX9e2F"
   },
   "source": [
    "## Graphical Representation of Decision Tree"
   ]
  },
  {
   "cell_type": "code",
   "execution_count": null,
   "metadata": {
    "colab": {
     "base_uri": "https://localhost:8080/",
     "height": 932
    },
    "executionInfo": {
     "elapsed": 6342,
     "status": "ok",
     "timestamp": 1632135596491,
     "user": {
      "displayName": "Amol Chaudhari",
      "photoUrl": "https://lh3.googleusercontent.com/a-/AOh14GjDCF2gcKUVipPQqvcgYGTG86BwmILmYxkyrP_Wsw=s64",
      "userId": "13156265524411211534"
     },
     "user_tz": -330
    },
    "id": "M7M5PKZd2_JO",
    "outputId": "f20dcdcc-72e5-4182-b508-7f1d9cfe9fd8"
   },
   "outputs": [],
   "source": [
    "from sklearn import tree\n",
    "fn=['sepal length (cm)','sepal width (cm)','petal length (cm)','petal width (cm)']\n",
    "cn=['setosa', 'versicolor', 'virginica']\n",
    "fig, axes = plt.subplots(nrows = 1,ncols = 1,figsize = (15,10), dpi=300)\n",
    "tree.plot_tree(clf_tree,\n",
    "               feature_names = fn, \n",
    "               class_names=cn,\n",
    "               filled = True);\n",
    "fig.savefig('imagename.png')"
   ]
  },
  {
   "cell_type": "code",
   "execution_count": null,
   "metadata": {
    "id": "jqm_ED2L3K0Z"
   },
   "outputs": [],
   "source": []
  }
 ],
 "metadata": {
  "colab": {
   "authorship_tag": "ABX9TyPsnCqu9GEVAovPX5o53oXl",
   "collapsed_sections": [],
   "mount_file_id": "1JHwPWtaPxi2CGDpysuLvKBg6nqMXHdHl",
   "name": "Prediction using Decision Tree  Algorithm :.ipynb",
   "provenance": []
  },
  "kernelspec": {
   "display_name": "Python 3 (ipykernel)",
   "language": "python",
   "name": "python3"
  },
  "language_info": {
   "codemirror_mode": {
    "name": "ipython",
    "version": 3
   },
   "file_extension": ".py",
   "mimetype": "text/x-python",
   "name": "python",
   "nbconvert_exporter": "python",
   "pygments_lexer": "ipython3",
   "version": "3.9.6"
  }
 },
 "nbformat": 4,
 "nbformat_minor": 1
}
